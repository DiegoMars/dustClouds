{
 "cells": [
  {
   "cell_type": "code",
   "execution_count": 1,
   "metadata": {},
   "outputs": [
    {
     "name": "stderr",
     "output_type": "stream",
     "text": [
      "/tmp/ipykernel_5463/142270190.py:1: DeprecationWarning: \n",
      "Pyarrow will become a required dependency of pandas in the next major release of pandas (pandas 3.0),\n",
      "(to allow more performant data types, such as the Arrow string type, and better interoperability with other libraries)\n",
      "but was not found to be installed on your system.\n",
      "If this would cause problems for you,\n",
      "please provide us feedback at https://github.com/pandas-dev/pandas/issues/54466\n",
      "        \n",
      "  import pandas as pd\n"
     ]
    }
   ],
   "source": [
    "import pandas as pd\n",
    "import wget\n",
    "\n",
    "atlas = pd.read_csv(\"atlas.csv\")\n",
    "starter = 'https://irsa.ipac.caltech.edu/applications/finderchart/servlet/api?mode=getImage&file_type=pdf&subsetsize=1.0&marker=true'"
   ]
  },
  {
   "cell_type": "code",
   "execution_count": 2,
   "metadata": {},
   "outputs": [
    {
     "data": {
      "text/html": [
       "<div>\n",
       "<style scoped>\n",
       "    .dataframe tbody tr th:only-of-type {\n",
       "        vertical-align: middle;\n",
       "    }\n",
       "\n",
       "    .dataframe tbody tr th {\n",
       "        vertical-align: top;\n",
       "    }\n",
       "\n",
       "    .dataframe thead th {\n",
       "        text-align: right;\n",
       "    }\n",
       "</style>\n",
       "<table border=\"1\" class=\"dataframe\">\n",
       "  <thead>\n",
       "    <tr style=\"text-align: right;\">\n",
       "      <th></th>\n",
       "      <th>objid</th>\n",
       "      <th>ra</th>\n",
       "      <th>dec</th>\n",
       "    </tr>\n",
       "  </thead>\n",
       "  <tbody>\n",
       "    <tr>\n",
       "      <th>0</th>\n",
       "      <td>SSTSL2 J152742.67+023551.8</td>\n",
       "      <td>231.927823</td>\n",
       "      <td>2.597747</td>\n",
       "    </tr>\n",
       "    <tr>\n",
       "      <th>1</th>\n",
       "      <td>SSTSL2 J053049.72-670554.9</td>\n",
       "      <td>82.707184</td>\n",
       "      <td>-67.098598</td>\n",
       "    </tr>\n",
       "    <tr>\n",
       "      <th>2</th>\n",
       "      <td>SSTSL2 J153607.88+384214.4</td>\n",
       "      <td>234.032847</td>\n",
       "      <td>38.704015</td>\n",
       "    </tr>\n",
       "    <tr>\n",
       "      <th>3</th>\n",
       "      <td>SSTSL2 J224656.98+602924.5</td>\n",
       "      <td>341.737456</td>\n",
       "      <td>60.490152</td>\n",
       "    </tr>\n",
       "    <tr>\n",
       "      <th>4</th>\n",
       "      <td>SSTSL2 J022523.15-733726.6</td>\n",
       "      <td>36.346464</td>\n",
       "      <td>-73.624064</td>\n",
       "    </tr>\n",
       "    <tr>\n",
       "      <th>...</th>\n",
       "      <td>...</td>\n",
       "      <td>...</td>\n",
       "      <td>...</td>\n",
       "    </tr>\n",
       "    <tr>\n",
       "      <th>17459</th>\n",
       "      <td>SSTSL2 J053328.89-683636.5</td>\n",
       "      <td>83.370390</td>\n",
       "      <td>-68.610158</td>\n",
       "    </tr>\n",
       "    <tr>\n",
       "      <th>17460</th>\n",
       "      <td>SSTSL2 J194613.16+263840.3</td>\n",
       "      <td>296.554874</td>\n",
       "      <td>26.644537</td>\n",
       "    </tr>\n",
       "    <tr>\n",
       "      <th>17461</th>\n",
       "      <td>SSTSL2 J193929.88+233823.8</td>\n",
       "      <td>294.874522</td>\n",
       "      <td>23.639946</td>\n",
       "    </tr>\n",
       "    <tr>\n",
       "      <th>17462</th>\n",
       "      <td>SSTSL2 J174449.11-333318.8</td>\n",
       "      <td>266.204645</td>\n",
       "      <td>-33.555244</td>\n",
       "    </tr>\n",
       "    <tr>\n",
       "      <th>17463</th>\n",
       "      <td>SSTSL2 J170847.90-383627.4</td>\n",
       "      <td>257.199603</td>\n",
       "      <td>-38.607616</td>\n",
       "    </tr>\n",
       "  </tbody>\n",
       "</table>\n",
       "<p>17464 rows × 3 columns</p>\n",
       "</div>"
      ],
      "text/plain": [
       "                            objid          ra        dec\n",
       "0      SSTSL2 J152742.67+023551.8  231.927823   2.597747\n",
       "1      SSTSL2 J053049.72-670554.9   82.707184 -67.098598\n",
       "2      SSTSL2 J153607.88+384214.4  234.032847  38.704015\n",
       "3      SSTSL2 J224656.98+602924.5  341.737456  60.490152\n",
       "4      SSTSL2 J022523.15-733726.6   36.346464 -73.624064\n",
       "...                           ...         ...        ...\n",
       "17459  SSTSL2 J053328.89-683636.5   83.370390 -68.610158\n",
       "17460  SSTSL2 J194613.16+263840.3  296.554874  26.644537\n",
       "17461  SSTSL2 J193929.88+233823.8  294.874522  23.639946\n",
       "17462  SSTSL2 J174449.11-333318.8  266.204645 -33.555244\n",
       "17463  SSTSL2 J170847.90-383627.4  257.199603 -38.607616\n",
       "\n",
       "[17464 rows x 3 columns]"
      ]
     },
     "execution_count": 2,
     "metadata": {},
     "output_type": "execute_result"
    }
   ],
   "source": [
    "# Convert Panda series to arrays\n",
    "objidA = pd.Series(atlas['objid']).array\n",
    "raA = pd.Series(atlas['ra']).array\n",
    "decA = pd.Series(atlas['dec']).array\n",
    "ra, dec = 0, 0\n",
    "id = '0'\n",
    "atlas"
   ]
  },
  {
   "cell_type": "code",
   "execution_count": 11,
   "metadata": {},
   "outputs": [
    {
     "name": "stdout",
     "output_type": "stream",
     "text": [
      "RA=231.927823 DEC=2.597747\n"
     ]
    }
   ],
   "source": [
    "# Asks for Object ID, then returns ra and dec of the object is available\n",
    "# If not available, display error and ends program\n",
    "def search():\n",
    "    id = input(\"Enter object ID: \")\n",
    "    for i in range(len(objidA)):\n",
    "        if id == objidA[i]:\n",
    "            ra = raA[i]\n",
    "            dec = decA[i]\n",
    "            print(f'RA={ra} DEC={dec}')\n",
    "            return\n",
    "    print('Error: search()')\n",
    "\n",
    "def roundCords(num):\n",
    "    "
   ]
  },
  {
   "cell_type": "code",
   "execution_count": 10,
   "metadata": {},
   "outputs": [
    {
     "data": {
      "text/plain": [
       "'https://irsa.ipac.caltech.edu/applications/finderchart/servlet/api?mode=getImage&file_type=pdf&subsetsize=1.0&marker=true&RA=146.22351&DEC=22.88512'"
      ]
     },
     "execution_count": 10,
     "metadata": {},
     "output_type": "execute_result"
    }
   ],
   "source": [
    "web = starter+\"&RA=146.22351&DEC=22.88512\"\n",
    "web"
   ]
  },
  {
   "cell_type": "markdown",
   "metadata": {},
   "source": [
    "https://irsa.ipac.caltech.edu/applications/finderchart/servlet/api?mode=getImage&RA=146.22351&DEC=22.88512&subsetsize=1.0&file_type=pdf&marker=true"
   ]
  }
 ],
 "metadata": {
  "kernelspec": {
   "display_name": ".venv",
   "language": "python",
   "name": "python3"
  },
  "language_info": {
   "codemirror_mode": {
    "name": "ipython",
    "version": 3
   },
   "file_extension": ".py",
   "mimetype": "text/x-python",
   "name": "python",
   "nbconvert_exporter": "python",
   "pygments_lexer": "ipython3",
   "version": "3.10.12"
  }
 },
 "nbformat": 4,
 "nbformat_minor": 2
}
